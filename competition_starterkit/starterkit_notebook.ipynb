{
 "cells": [
  {
   "cell_type": "markdown",
   "id": "076f825c-2fde-466e-a328-03d54c22950c",
   "metadata": {},
   "source": [
    "# Memory Failure Prediction Competition: Starter Kit\n",
    "\n",
    "## This notebook is designed as a starter kit for the memory failure prediction competition. It includes steps for data processing, feature extraction, and model training using XGBoost."
   ]
  },
  {
   "cell_type": "code",
   "execution_count": 1,
   "id": "f82a1cc6",
   "metadata": {
    "ExecuteTime": {
     "start_time": "2025-01-10T09:25:30.677239Z"
    },
    "jupyter": {
     "is_executing": true
    },
    "pycharm": {
     "name": "#%%\n"
    }
   },
   "outputs": [
    {
     "name": "stdout",
     "output_type": "stream",
     "text": [
      "Requirement already satisfied: attr>=0.3.2 in d:\\huawei_legacy\\fault_prediction\\smartmem_kaggle_competition\\smarthw\\.venv\\lib\\site-packages (from -r requirements.txt (line 2)) (0.3.2)\n",
      "Requirement already satisfied: lightgbm>=4.5.0 in d:\\huawei_legacy\\fault_prediction\\smartmem_kaggle_competition\\smarthw\\.venv\\lib\\site-packages (from -r requirements.txt (line 3)) (4.5.0)\n",
      "Requirement already satisfied: numpy>=1.24.4 in d:\\huawei_legacy\\fault_prediction\\smartmem_kaggle_competition\\smarthw\\.venv\\lib\\site-packages (from -r requirements.txt (line 4)) (2.2.1)\n",
      "Requirement already satisfied: pandas>=2.0.3 in d:\\huawei_legacy\\fault_prediction\\smartmem_kaggle_competition\\smarthw\\.venv\\lib\\site-packages (from -r requirements.txt (line 5)) (2.2.3)\n",
      "Requirement already satisfied: scikit-learn>=1.3.2 in d:\\huawei_legacy\\fault_prediction\\smartmem_kaggle_competition\\smarthw\\.venv\\lib\\site-packages (from -r requirements.txt (line 6)) (1.6.1)\n",
      "Requirement already satisfied: matplotlib>=3.7.5 in d:\\huawei_legacy\\fault_prediction\\smartmem_kaggle_competition\\smarthw\\.venv\\lib\\site-packages (from -r requirements.txt (line 7)) (3.10.0)\n",
      "Requirement already satisfied: tqdm>=4.66.5 in d:\\huawei_legacy\\fault_prediction\\smartmem_kaggle_competition\\smarthw\\.venv\\lib\\site-packages (from -r requirements.txt (line 8)) (4.67.1)\n",
      "Requirement already satisfied: scipy in d:\\huawei_legacy\\fault_prediction\\smartmem_kaggle_competition\\smarthw\\.venv\\lib\\site-packages (from lightgbm>=4.5.0->-r requirements.txt (line 3)) (1.15.0)\n",
      "Requirement already satisfied: python-dateutil>=2.8.2 in d:\\huawei_legacy\\fault_prediction\\smartmem_kaggle_competition\\smarthw\\.venv\\lib\\site-packages (from pandas>=2.0.3->-r requirements.txt (line 5)) (2.9.0.post0)\n",
      "Requirement already satisfied: pytz>=2020.1 in d:\\huawei_legacy\\fault_prediction\\smartmem_kaggle_competition\\smarthw\\.venv\\lib\\site-packages (from pandas>=2.0.3->-r requirements.txt (line 5)) (2024.2)\n",
      "Requirement already satisfied: tzdata>=2022.7 in d:\\huawei_legacy\\fault_prediction\\smartmem_kaggle_competition\\smarthw\\.venv\\lib\\site-packages (from pandas>=2.0.3->-r requirements.txt (line 5)) (2024.2)\n",
      "Requirement already satisfied: joblib>=1.2.0 in d:\\huawei_legacy\\fault_prediction\\smartmem_kaggle_competition\\smarthw\\.venv\\lib\\site-packages (from scikit-learn>=1.3.2->-r requirements.txt (line 6)) (1.4.2)\n",
      "Requirement already satisfied: threadpoolctl>=3.1.0 in d:\\huawei_legacy\\fault_prediction\\smartmem_kaggle_competition\\smarthw\\.venv\\lib\\site-packages (from scikit-learn>=1.3.2->-r requirements.txt (line 6)) (3.5.0)\n",
      "Requirement already satisfied: contourpy>=1.0.1 in d:\\huawei_legacy\\fault_prediction\\smartmem_kaggle_competition\\smarthw\\.venv\\lib\\site-packages (from matplotlib>=3.7.5->-r requirements.txt (line 7)) (1.3.1)\n",
      "Requirement already satisfied: cycler>=0.10 in d:\\huawei_legacy\\fault_prediction\\smartmem_kaggle_competition\\smarthw\\.venv\\lib\\site-packages (from matplotlib>=3.7.5->-r requirements.txt (line 7)) (0.12.1)\n",
      "Requirement already satisfied: fonttools>=4.22.0 in d:\\huawei_legacy\\fault_prediction\\smartmem_kaggle_competition\\smarthw\\.venv\\lib\\site-packages (from matplotlib>=3.7.5->-r requirements.txt (line 7)) (4.55.3)\n",
      "Requirement already satisfied: kiwisolver>=1.3.1 in d:\\huawei_legacy\\fault_prediction\\smartmem_kaggle_competition\\smarthw\\.venv\\lib\\site-packages (from matplotlib>=3.7.5->-r requirements.txt (line 7)) (1.4.8)\n",
      "Requirement already satisfied: packaging>=20.0 in d:\\huawei_legacy\\fault_prediction\\smartmem_kaggle_competition\\smarthw\\.venv\\lib\\site-packages (from matplotlib>=3.7.5->-r requirements.txt (line 7)) (24.2)\n",
      "Requirement already satisfied: pillow>=8 in d:\\huawei_legacy\\fault_prediction\\smartmem_kaggle_competition\\smarthw\\.venv\\lib\\site-packages (from matplotlib>=3.7.5->-r requirements.txt (line 7)) (11.1.0)\n",
      "Requirement already satisfied: pyparsing>=2.3.1 in d:\\huawei_legacy\\fault_prediction\\smartmem_kaggle_competition\\smarthw\\.venv\\lib\\site-packages (from matplotlib>=3.7.5->-r requirements.txt (line 7)) (3.2.1)\n",
      "Requirement already satisfied: colorama in d:\\huawei_legacy\\fault_prediction\\smartmem_kaggle_competition\\smarthw\\.venv\\lib\\site-packages (from tqdm>=4.66.5->-r requirements.txt (line 8)) (0.4.6)\n",
      "Requirement already satisfied: six>=1.5 in d:\\huawei_legacy\\fault_prediction\\smartmem_kaggle_competition\\smarthw\\.venv\\lib\\site-packages (from python-dateutil>=2.8.2->pandas>=2.0.3->-r requirements.txt (line 5)) (1.17.0)\n"
     ]
    },
    {
     "name": "stderr",
     "output_type": "stream",
     "text": [
      "\n",
      "[notice] A new release of pip is available: 23.2.1 -> 24.3.1\n",
      "[notice] To update, run: python.exe -m pip install --upgrade pip\n"
     ]
    }
   ],
   "source": [
    "# Install required packages\n",
    "!pip install -r requirements.txt"
   ]
  },
  {
   "cell_type": "code",
   "id": "bb9afbe5",
   "metadata": {
    "ExecuteTime": {
     "end_time": "2025-01-10T17:17:43.641639Z",
     "start_time": "2025-01-10T17:17:43.637690Z"
    }
   },
   "source": [
    "# Import necessary libraries\n",
    "import pandas as pd\n",
    "import os\n",
    "import xgboost as xgb\n",
    "from sklearn.model_selection import train_test_split\n",
    "from tqdm import tqdm\n",
    "from pyarrow import feather\n",
    "from sklearn.metrics import classification_report, confusion_matrix, accuracy_score\n",
    "import matplotlib.pyplot as plt"
   ],
   "outputs": [],
   "execution_count": 360
  },
  {
   "cell_type": "code",
   "id": "078fe482",
   "metadata": {
    "ExecuteTime": {
     "end_time": "2025-01-10T17:17:44.730425Z",
     "start_time": "2025-01-10T17:17:44.724431Z"
    }
   },
   "source": [
    "# Load ticket data\n",
    "ticket = pd.read_csv('../sample_data/ticket.csv')"
   ],
   "outputs": [],
   "execution_count": 361
  },
  {
   "cell_type": "code",
   "id": "0e316406",
   "metadata": {
    "pycharm": {
     "name": "#%%\n"
    },
    "ExecuteTime": {
     "end_time": "2025-01-10T17:17:48.738835Z",
     "start_time": "2025-01-10T17:17:48.733617Z"
    }
   },
   "source": [
    "# Display the ticket data\n",
    "ticket.head()"
   ],
   "outputs": [
    {
     "data": {
      "text/plain": [
       "    sn_name  alarm_time sn_type\n",
       "0   sn_4191  1704077850       A\n",
       "1  sn_10692  1704140121       A\n",
       "2   sn_7219  1704148156       A\n",
       "3  sn_31281  1704151660       A\n",
       "4   sn_8854  1704159849       A"
      ],
      "text/html": [
       "<div>\n",
       "<style scoped>\n",
       "    .dataframe tbody tr th:only-of-type {\n",
       "        vertical-align: middle;\n",
       "    }\n",
       "\n",
       "    .dataframe tbody tr th {\n",
       "        vertical-align: top;\n",
       "    }\n",
       "\n",
       "    .dataframe thead th {\n",
       "        text-align: right;\n",
       "    }\n",
       "</style>\n",
       "<table border=\"1\" class=\"dataframe\">\n",
       "  <thead>\n",
       "    <tr style=\"text-align: right;\">\n",
       "      <th></th>\n",
       "      <th>sn_name</th>\n",
       "      <th>alarm_time</th>\n",
       "      <th>sn_type</th>\n",
       "    </tr>\n",
       "  </thead>\n",
       "  <tbody>\n",
       "    <tr>\n",
       "      <th>0</th>\n",
       "      <td>sn_4191</td>\n",
       "      <td>1704077850</td>\n",
       "      <td>A</td>\n",
       "    </tr>\n",
       "    <tr>\n",
       "      <th>1</th>\n",
       "      <td>sn_10692</td>\n",
       "      <td>1704140121</td>\n",
       "      <td>A</td>\n",
       "    </tr>\n",
       "    <tr>\n",
       "      <th>2</th>\n",
       "      <td>sn_7219</td>\n",
       "      <td>1704148156</td>\n",
       "      <td>A</td>\n",
       "    </tr>\n",
       "    <tr>\n",
       "      <th>3</th>\n",
       "      <td>sn_31281</td>\n",
       "      <td>1704151660</td>\n",
       "      <td>A</td>\n",
       "    </tr>\n",
       "    <tr>\n",
       "      <th>4</th>\n",
       "      <td>sn_8854</td>\n",
       "      <td>1704159849</td>\n",
       "      <td>A</td>\n",
       "    </tr>\n",
       "  </tbody>\n",
       "</table>\n",
       "</div>"
      ]
     },
     "execution_count": 362,
     "metadata": {},
     "output_type": "execute_result"
    }
   ],
   "execution_count": 362
  },
  {
   "cell_type": "code",
   "id": "33edf7bd",
   "metadata": {
    "pycharm": {
     "name": "#%%\n"
    },
    "ExecuteTime": {
     "end_time": "2025-01-10T17:22:17.482212Z",
     "start_time": "2025-01-10T17:22:17.451998Z"
    }
   },
   "source": [
    "# Load and process training data for Server Type A\n",
    "trainset_A_path = '../sample_data/server_type_A/'\n",
    "trainset_A = []\n",
    "\n",
    "for filename in os.listdir(trainset_A_path):\n",
    "    file_path = os.path.join(trainset_A_path, filename)\n",
    "    if filename.endswith('.feather'):  # Check for Feather files\n",
    "        df = pd.read_feather(file_path)  # Use pandas.read_feather()\n",
    "        df['sn'] = os.path.splitext(filename)[0]  # Extract filename without extension\n",
    "        trainset_A.append(df)\n",
    "\n",
    "trainset_A_df = pd.concat(trainset_A, ignore_index=True)"
   ],
   "outputs": [],
   "execution_count": 391
  },
  {
   "cell_type": "code",
   "id": "ed70366f",
   "metadata": {
    "collapsed": false,
    "jupyter": {
     "outputs_hidden": false
    },
    "pycharm": {
     "name": "#%%\n"
    },
    "ExecuteTime": {
     "end_time": "2025-01-10T17:22:18.736122Z",
     "start_time": "2025-01-10T17:22:18.732068Z"
    }
   },
   "source": [
    "# Label the data based on anomalies\n",
    "trainset_A_df['anomaly'] = 0\n",
    "trainset_A_df.loc[trainset_A_df['sn'].isin(ticket['sn_name']), 'anomaly'] = 1"
   ],
   "outputs": [],
   "execution_count": 392
  },
  {
   "cell_type": "markdown",
   "id": "58ab9b68-6677-4d7e-b56b-f061318b2a5c",
   "metadata": {},
   "source": [
    "## Feature Engineering\n",
    "\n",
    "### Error Counts Features"
   ]
  },
  {
   "cell_type": "code",
   "id": "08ba679d",
   "metadata": {
    "collapsed": false,
    "jupyter": {
     "outputs_hidden": false
    },
    "pycharm": {
     "name": "#%%\n"
    },
    "ExecuteTime": {
     "end_time": "2025-01-10T17:22:31.488201Z",
     "start_time": "2025-01-10T17:22:21.468210Z"
    }
   },
   "source": [
    "# Function to calculate error counts within specific time windows\n",
    "def calculate_counts_features(df):\n",
    "    df['LogTime'] = pd.to_datetime(df['LogTime'], unit='s')\n",
    "    df = df.sort_values('LogTime')\n",
    "\n",
    "    df['error_count_CE.READ_24h'] = 0\n",
    "    df['error_count_CE.READ_1m'] = 0\n",
    "    df['error_count_CE.SCRUB_24h'] = 0\n",
    "    df['error_count_CE.SCRUB_1m'] = 0\n",
    "    \n",
    "    for index, row in df.iterrows():\n",
    "        start_time_24h = row['LogTime'] - pd.Timedelta(hours=24)\n",
    "        start_time_1m = row['LogTime'] - pd.Timedelta(minutes=1)\n",
    "        end_time = row['LogTime']\n",
    "\n",
    "        mask_24h = (df['LogTime'] >= start_time_24h) & (df['LogTime'] <= end_time)\n",
    "        mask_1m = (df['LogTime'] >= start_time_1m) & (df['LogTime'] <= end_time)\n",
    "\n",
    "        recent_data_24h = df.loc[mask_24h]\n",
    "        recent_data_1m = df.loc[mask_1m]\n",
    "\n",
    "        df.at[index, 'error_count_CE.READ_24h'] = recent_data_24h['error_type_full_name'].value_counts().get('CE.READ', 0)\n",
    "        df.at[index, 'error_count_CE.READ_1m'] = recent_data_1m['error_type_full_name'].value_counts().get('CE.READ', 0)\n",
    "        df.at[index, 'error_count_CE.SCRUB_24h'] = recent_data_24h['error_type_full_name'].value_counts().get('CE.SCRUB', 0)\n",
    "        df.at[index, 'error_count_CE.SCRUB_1m'] = recent_data_1m['error_type_full_name'].value_counts().get('CE.SCRUB', 0)\n",
    "        \n",
    "    return df\n",
    "\n",
    "processed_data_count = pd.concat([calculate_counts_features(group) for name, group in trainset_A_df.groupby('sn')])"
   ],
   "outputs": [],
   "execution_count": 394
  },
  {
   "cell_type": "markdown",
   "id": "58ee70b2-6dd8-45e8-bec3-6c1c03724f02",
   "metadata": {},
   "source": [
    "### Fault Features"
   ]
  },
  {
   "cell_type": "code",
   "id": "db31b842",
   "metadata": {
    "collapsed": false,
    "jupyter": {
     "outputs_hidden": false
    },
    "pycharm": {
     "name": "#%%\n"
    },
    "ExecuteTime": {
     "end_time": "2025-01-10T17:23:01.151046Z",
     "start_time": "2025-01-10T17:22:42.325703Z"
    }
   },
   "source": [
    "# Function to calculate fault features based on memory cell locations\n",
    "def calculate_faults_features(df):\n",
    "    df['LogTime'] = pd.to_datetime(df['LogTime'], unit='s')\n",
    "    df['address'] = df['CpuId'].astype(str) + '-' + df['ChannelId'].astype(str) + '-' + df['RankId'].astype(str) + '-' + \\\n",
    "                    df['deviceID'].astype(str) + '-' + df['BankgroupId'].astype(str) + '-' + df['BankId'].astype(str) + '-' + \\\n",
    "                    df['ColumnId'].astype(str) + '-' + df['RowId'].astype(str)\n",
    "    df['bank_column_key'] = df['CpuId'].astype(str) + '-' + df['ChannelId'].astype(str) + '-' + df['RankId'].astype(str) + '-' + \\\n",
    "                            df['deviceID'].astype(str) + '-' + df['BankgroupId'].astype(str) + '-' + df['BankId'].astype(str) + '-' + df['ColumnId'].astype(str)\n",
    "    df['bank_row_key'] = df['CpuId'].astype(str) + '-' + df['ChannelId'].astype(str) + '-' + df['RankId'].astype(str) + '-' + \\\n",
    "                         df['deviceID'].astype(str) + '-' + df['BankgroupId'].astype(str) + '-' + df['BankId'].astype(str) + '-' + df['RowId'].astype(str)\n",
    "    df['bank_key'] = df['CpuId'].astype(str) + '-' + df['ChannelId'].astype(str) + '-' + df['RankId'].astype(str) + '-' + \\\n",
    "                     df['deviceID'].astype(str) + '-' + df['BankgroupId'].astype(str) + '-' + df['BankId'].astype(str)\n",
    "    \n",
    "    df = df.sort_values('LogTime')\n",
    "    df['cell_fault'] = 0\n",
    "    df['column_fault'] = 0\n",
    "    df['row_fault'] = 0\n",
    "    df['bank_fault'] = 0\n",
    "    \n",
    "    for index, row in df.iterrows():\n",
    "        faulty_banks = set()\n",
    "        start_time = row['LogTime'] - pd.Timedelta(hours=24)\n",
    "        end_time = row['LogTime']\n",
    "        \n",
    "        mask = (df['LogTime'] >= start_time) & (df['LogTime'] <= end_time)\n",
    "        recent_data = df.loc[mask]\n",
    "        \n",
    "        address_counts = recent_data['address'].value_counts()\n",
    "        df.at[index, 'cell_fault'] = len(address_counts[address_counts > 1])\n",
    "        \n",
    "        rowid_groups = recent_data.groupby('bank_column_key')['RowId'].nunique()\n",
    "        df.at[index, 'column_fault'] = len(rowid_groups[rowid_groups > 1])\n",
    "        \n",
    "        columnid_groups = recent_data.groupby('bank_row_key')['ColumnId'].nunique()\n",
    "        df.at[index, 'row_fault'] = len(columnid_groups[columnid_groups > 1])\n",
    "        \n",
    "        bank_groups = recent_data.groupby('bank_key')\n",
    "        for bank_key, group in bank_groups:\n",
    "            same_bank_rowid_groups = group.groupby('bank_column_key')['RowId'].nunique()\n",
    "            same_bank_columnid_groups = group.groupby('bank_row_key')['ColumnId'].nunique()\n",
    "            \n",
    "            if len(same_bank_columnid_groups[same_bank_columnid_groups > 1]) > 1 and len(same_bank_rowid_groups[same_bank_rowid_groups > 1]) > 1:\n",
    "                faulty_banks.add(bank_key)\n",
    "        \n",
    "        df.at[index, 'bank_fault'] = len(faulty_banks)\n",
    "    return df\n",
    "\n",
    "processed_data = pd.concat([calculate_faults_features(group) for name, group in trainset_A_df.groupby('sn')])"
   ],
   "outputs": [],
   "execution_count": 395
  },
  {
   "cell_type": "markdown",
   "id": "85bbc963",
   "metadata": {},
   "source": [
    "### Bit-Level Features"
   ]
  },
  {
   "cell_type": "code",
   "id": "a3068d74",
   "metadata": {
    "collapsed": false,
    "jupyter": {
     "outputs_hidden": false
    },
    "pycharm": {
     "name": "#%%\n"
    },
    "ExecuteTime": {
     "end_time": "2025-01-10T17:23:03.394678Z",
     "start_time": "2025-01-10T17:23:03.359642Z"
    }
   },
   "source": [
    "# Function to extract bit-level information from a bit mask\n",
    "def _extract_beat_info(bit_mask: int):\n",
    "    DQ_MAP = {'0': [], '1': [0], '2': [1], '3': [0, 1], '4': [2], '5': [0, 2], '6': [1, 2], '7': [0, 1, 2], '8': [3],\n",
    "              '9': [0, 3], 'a': [1, 3], 'b': [0, 1, 3], 'c': [2, 3], 'd': [0, 2, 3], 'e': [1, 2, 3], 'f': [0, 1, 2, 3]}\n",
    "    DEVICE_BURST = 8\n",
    "    beat_info = {}\n",
    "    X4_BIT_WIDTH = 4\n",
    "    beat_info_tmp = format(int(bit_mask), \"0%dx\" % DEVICE_BURST)\n",
    "\n",
    "    for beat in range(DEVICE_BURST):\n",
    "        beat_info[str(beat)] = [beat_position for beat_position in DQ_MAP.get(beat_info_tmp[-(beat + 1)])]\n",
    "    return beat_info\n",
    "\n",
    "# Apply bit-level feature extraction\n",
    "trainset_A_df[\"beat_info\"] = trainset_A_df[\"RetryRdErrLogParity\"].apply(_extract_beat_info)\n",
    "trainset_A_df[\"total_err_bits\"] = trainset_A_df[\"beat_info\"].apply(lambda x: sum(len(b) for b in x.values()))"
   ],
   "outputs": [],
   "execution_count": 396
  },
  {
   "cell_type": "code",
   "id": "e4fe7b51",
   "metadata": {
    "collapsed": false,
    "jupyter": {
     "outputs_hidden": false
    },
    "pycharm": {
     "name": "#%%\n"
    },
    "ExecuteTime": {
     "end_time": "2025-01-10T17:23:04.905670Z",
     "start_time": "2025-01-10T17:23:04.895006Z"
    }
   },
   "source": [
    "# Function to calculate the maximum error beat interval\n",
    "def _max_err_beat_interval(beat_info):\n",
    "    err_beat = [int(k) for k, b in beat_info.items() if len(b) > 0]\n",
    "    if err_beat:\n",
    "        return err_beat[-1] - err_beat[0]\n",
    "    return 0\n",
    "\n",
    "trainset_A_df[\"Max_err_beat_interval\"] = trainset_A_df[\"beat_info\"].apply(_max_err_beat_interval)"
   ],
   "outputs": [],
   "execution_count": 397
  },
  {
   "cell_type": "code",
   "id": "bedfabee",
   "metadata": {
    "collapsed": false,
    "jupyter": {
     "outputs_hidden": false
    },
    "pycharm": {
     "name": "#%%\n"
    },
    "ExecuteTime": {
     "end_time": "2025-01-10T17:23:06.005514Z",
     "start_time": "2025-01-10T17:23:05.995041Z"
    }
   },
   "source": [
    "# Function to count the number of unique DQ errors\n",
    "def err_dq_count(beat_info):\n",
    "    unique_err_dq = set()\n",
    "    for b in beat_info.values():\n",
    "        unique_err_dq.update(b)\n",
    "    return len(unique_err_dq)\n",
    "\n",
    "trainset_A_df[\"err_dq_count\"] = trainset_A_df[\"beat_info\"].apply(err_dq_count)"
   ],
   "outputs": [],
   "execution_count": 398
  },
  {
   "cell_type": "markdown",
   "id": "f51866bd-ac90-4734-bcfb-81af83dfd190",
   "metadata": {},
   "source": [
    "### Combine Features for Modeling"
   ]
  },
  {
   "cell_type": "code",
   "id": "58750764",
   "metadata": {
    "collapsed": false,
    "jupyter": {
     "outputs_hidden": false
    },
    "pycharm": {
     "name": "#%%\n"
    },
    "ExecuteTime": {
     "end_time": "2025-01-10T17:23:07.606195Z",
     "start_time": "2025-01-10T17:23:07.600706Z"
    }
   },
   "source": [
    "# Combine extracted features\n",
    "extract_bit_features = trainset_A_df[[\"total_err_bits\", 'err_dq_count', \"Max_err_beat_interval\"]]\n",
    "extract_fault_features = processed_data[['cell_fault', 'row_fault', 'column_fault', 'bank_fault']]\n",
    "extract_count_features = processed_data_count[[ 'error_count_CE.READ_24h', 'error_count_CE.READ_1m',\n",
    "                                                'error_count_CE.SCRUB_24h', 'error_count_CE.SCRUB_1m']]\n",
    "\n",
    "features = pd.concat([extract_count_features, extract_fault_features, extract_bit_features], axis=1)"
   ],
   "outputs": [],
   "execution_count": 399
  },
  {
   "cell_type": "code",
   "id": "ec94355e",
   "metadata": {
    "collapsed": false,
    "jupyter": {
     "outputs_hidden": false
    },
    "pycharm": {
     "name": "#%%\n"
    },
    "ExecuteTime": {
     "end_time": "2025-01-10T17:23:09.278338Z",
     "start_time": "2025-01-10T17:23:09.275430Z"
    }
   },
   "source": [
    "# Define feature matrix (X) and target vector (y)\n",
    "X = features\n",
    "y = trainset_A_df['anomaly']"
   ],
   "outputs": [],
   "execution_count": 400
  },
  {
   "cell_type": "code",
   "id": "b27bcf81",
   "metadata": {
    "collapsed": false,
    "jupyter": {
     "outputs_hidden": false
    },
    "pycharm": {
     "name": "#%%\n"
    },
    "ExecuteTime": {
     "end_time": "2025-01-10T17:23:10.306227Z",
     "start_time": "2025-01-10T17:23:10.302882Z"
    }
   },
   "source": [
    "# Split the data into training and test sets\n",
    "X_train, X_test, y_train, y_test = train_test_split(X, y, test_size=0.1, random_state=42)"
   ],
   "outputs": [],
   "execution_count": 401
  },
  {
   "cell_type": "markdown",
   "id": "ded2243a-ed17-44de-b819-a68880100fe8",
   "metadata": {},
   "source": [
    "### Model Training with XGBoost"
   ]
  },
  {
   "cell_type": "code",
   "id": "2d3cd4b5",
   "metadata": {
    "collapsed": false,
    "jupyter": {
     "outputs_hidden": false
    },
    "pycharm": {
     "name": "#%%\n"
    },
    "ExecuteTime": {
     "end_time": "2025-01-10T17:23:11.958954Z",
     "start_time": "2025-01-10T17:23:11.821519Z"
    }
   },
   "source": [
    "# Prepare data for XGBoost\n",
    "dtrain_xgb = xgb.DMatrix(X_train, label=y_train, enable_categorical=True)\n",
    "dtest_xgb = xgb.DMatrix(X_test, label=y_test, enable_categorical=True)\n",
    "\n",
    "# XGBoost model parameters\n",
    "params_xgb = {\n",
    "    'objective': 'binary:logistic',\n",
    "    'tree_method': 'hist',\n",
    "    'eval_metric': 'logloss',\n",
    "    'random_state': 42\n",
    "}\n",
    "\n",
    "# Custom callback for progress bar\n",
    "class XGBoostProgressCallback(xgb.callback.TrainingCallback):\n",
    "    def __init__(self, total):\n",
    "        self.pbar = tqdm(total=total, desc=\"XGBoost Training Progress\")\n",
    "\n",
    "    def after_iteration(self, model, epoch, evals_log):\n",
    "        self.pbar.update(1)\n",
    "        if epoch + 1 == self.pbar.total:\n",
    "            self.pbar.close()\n",
    "        return False\n",
    "\n",
    "# Train the model with progress bar\n",
    "num_boost_round = 100\n",
    "evals_result_xgb = {}\n",
    "bst_xgb = xgb.train(params_xgb, dtrain_xgb, num_boost_round=num_boost_round, evals=[(dtest_xgb, 'test')],\n",
    "                    evals_result=evals_result_xgb, callbacks=[XGBoostProgressCallback(num_boost_round)])"
   ],
   "outputs": [
    {
     "name": "stderr",
     "output_type": "stream",
     "text": [
      "XGBoost Training Progress:   0%|          | 0/100 [00:00<?, ?it/s]"
     ]
    },
    {
     "name": "stdout",
     "output_type": "stream",
     "text": [
      "[0]\ttest-logloss:0.12388\n",
      "[1]\ttest-logloss:0.09089\n",
      "[2]\ttest-logloss:0.06813\n",
      "[3]\ttest-logloss:0.05202\n",
      "[4]\ttest-logloss:0.04065\n",
      "[5]\ttest-logloss:0.03249\n",
      "[6]\ttest-logloss:0.02664\n",
      "[7]\ttest-logloss:0.02228\n",
      "[8]\ttest-logloss:0.01899\n",
      "[9]\ttest-logloss:0.01657\n",
      "[10]\ttest-logloss:0.01484\n",
      "[11]\ttest-logloss:0.01389\n",
      "[12]\ttest-logloss:0.01325\n",
      "[13]\ttest-logloss:0.01266\n",
      "[14]\ttest-logloss:0.01224\n",
      "[15]\ttest-logloss:0.01209\n",
      "[16]\ttest-logloss:0.01196\n",
      "[17]\ttest-logloss:0.01176\n",
      "[18]\ttest-logloss:0.01183\n",
      "[19]\ttest-logloss:0.01190\n",
      "[20]\ttest-logloss:0.01193\n",
      "[21]\ttest-logloss:0.01187\n",
      "[22]\ttest-logloss:0.01183\n",
      "[23]\ttest-logloss:0.01199\n",
      "[24]\ttest-logloss:0.01209\n",
      "[25]\ttest-logloss:0.01219\n",
      "[26]\ttest-logloss:0.01209\n",
      "[27]\ttest-logloss:0.01216\n",
      "[28]\ttest-logloss:0.01208\n",
      "[29]\ttest-logloss:0.01202\n",
      "[30]\ttest-logloss:0.01217\n",
      "[31]\ttest-logloss:0.01230\n",
      "[32]\ttest-logloss:0.01241\n",
      "[33]\ttest-logloss:0.01248\n",
      "[34]\ttest-logloss:0.01256\n",
      "[35]\ttest-logloss:0.01251\n",
      "[36]\ttest-logloss:0.01258\n",
      "[37]\ttest-logloss:0.01265\n",
      "[38]\ttest-logloss:0.01258\n",
      "[39]\ttest-logloss:0.01253\n",
      "[40]\ttest-logloss:0.01260\n",
      "[41]\ttest-logloss:0.01257\n",
      "[42]\ttest-logloss:0.01251\n",
      "[43]\ttest-logloss:0.01249\n",
      "[44]\ttest-logloss:0.01247\n",
      "[45]\ttest-logloss:0.01245\n",
      "[46]\ttest-logloss:0.01245\n",
      "[47]\ttest-logloss:0.01244\n",
      "[48]\ttest-logloss:0.01248\n",
      "[49]\ttest-logloss:0.01251\n",
      "[50]\ttest-logloss:0.01249\n",
      "[51]\ttest-logloss:0.01246\n",
      "[52]\ttest-logloss:0.01245\n",
      "[53]\ttest-logloss:0.01242\n",
      "[54]\ttest-logloss:0.01240\n",
      "[55]\ttest-logloss:0.01238\n",
      "[56]\ttest-logloss:0.01236\n",
      "[57]\ttest-logloss:0.01235\n",
      "[58]\ttest-logloss:0.01233\n",
      "[59]\ttest-logloss:0.01232\n",
      "[60]\ttest-logloss:0.01232\n",
      "[61]\ttest-logloss:0.01238\n",
      "[62]\ttest-logloss:0.01245\n",
      "[63]\ttest-logloss:0.01244\n",
      "[64]\ttest-logloss:0.01242\n",
      "[65]\ttest-logloss:0.01240\n",
      "[66]\ttest-logloss:0.01239\n",
      "[67]\ttest-logloss:0.01237\n",
      "[68]\ttest-logloss:0.01236\n",
      "[69]\ttest-logloss:0.01235\n",
      "[70]\ttest-logloss:0.01241\n",
      "[71]\ttest-logloss:0.01239\n",
      "[72]\ttest-logloss:0.01245\n",
      "[73]\ttest-logloss:0.01246\n",
      "[74]\ttest-logloss:0.01246\n",
      "[75]\ttest-logloss:0.01244\n",
      "[76]\ttest-logloss:0.01244\n",
      "[77]\ttest-logloss:0.01242\n",
      "[78]\ttest-logloss:0.01241\n",
      "[79]\ttest-logloss:0.01246\n",
      "[80]\ttest-logloss:0.01252\n",
      "[81]\ttest-logloss:0.01248\n",
      "[82]\ttest-logloss:0.01246\n"
     ]
    },
    {
     "name": "stderr",
     "output_type": "stream",
     "text": [
      "XGBoost Training Progress:  83%|████████▎ | 83/100 [00:00<00:00, 825.79it/s]"
     ]
    },
    {
     "name": "stdout",
     "output_type": "stream",
     "text": [
      "[83]\ttest-logloss:0.01244\n",
      "[84]\ttest-logloss:0.01250\n",
      "[85]\ttest-logloss:0.01247\n",
      "[86]\ttest-logloss:0.01246\n",
      "[87]\ttest-logloss:0.01244\n",
      "[88]\ttest-logloss:0.01243\n",
      "[89]\ttest-logloss:0.01248\n",
      "[90]\ttest-logloss:0.01246\n",
      "[91]\ttest-logloss:0.01244\n",
      "[92]\ttest-logloss:0.01249\n",
      "[93]\ttest-logloss:0.01248\n",
      "[94]\ttest-logloss:0.01246\n",
      "[95]\ttest-logloss:0.01246\n",
      "[96]\ttest-logloss:0.01251\n",
      "[97]\ttest-logloss:0.01248\n",
      "[98]\ttest-logloss:0.01247\n",
      "[99]\ttest-logloss:0.01251\n"
     ]
    },
    {
     "name": "stderr",
     "output_type": "stream",
     "text": [
      "XGBoost Training Progress: 100%|██████████| 100/100 [00:00<00:00, 829.81it/s]\n"
     ]
    }
   ],
   "execution_count": 402
  },
  {
   "cell_type": "code",
   "id": "d3ed27f6",
   "metadata": {
    "collapsed": false,
    "jupyter": {
     "outputs_hidden": false
    },
    "pycharm": {
     "name": "#%%\n"
    },
    "ExecuteTime": {
     "end_time": "2025-01-10T17:23:15.217278Z",
     "start_time": "2025-01-10T17:23:15.207843Z"
    }
   },
   "source": [
    "# Model evaluation\n",
    "y_pred_xgb = bst_xgb.predict(dtest_xgb)\n",
    "y_pred_xgb_binary = [1 if y > 0.5 else 0 for y in y_pred_xgb]\n",
    "\n",
    "accuracy_xgb = accuracy_score(y_test, y_pred_xgb_binary)\n",
    "conf_matrix_xgb = confusion_matrix(y_test, y_pred_xgb_binary)\n",
    "class_report_xgb = classification_report(y_test, y_pred_xgb_binary)\n",
    "\n",
    "print(\"XGBoost Accuracy:\", accuracy_xgb)\n",
    "print(\"XGBoost Confusion Matrix:\")\n",
    "print(conf_matrix_xgb)\n",
    "print(\"XGBoost Classification Report:\")\n",
    "print(class_report_xgb)"
   ],
   "outputs": [
    {
     "name": "stdout",
     "output_type": "stream",
     "text": [
      "XGBoost Accuracy: 0.998019801980198\n",
      "XGBoost Confusion Matrix:\n",
      "[[972   0]\n",
      " [  2  36]]\n",
      "XGBoost Classification Report:\n",
      "              precision    recall  f1-score   support\n",
      "\n",
      "           0       1.00      1.00      1.00       972\n",
      "           1       1.00      0.95      0.97        38\n",
      "\n",
      "    accuracy                           1.00      1010\n",
      "   macro avg       1.00      0.97      0.99      1010\n",
      "weighted avg       1.00      1.00      1.00      1010\n",
      "\n"
     ]
    }
   ],
   "execution_count": 403
  },
  {
   "cell_type": "code",
   "id": "969cc63f",
   "metadata": {
    "collapsed": false,
    "jupyter": {
     "outputs_hidden": false
    },
    "pycharm": {
     "name": "#%%\n"
    },
    "ExecuteTime": {
     "end_time": "2025-01-10T17:23:17.378875Z",
     "start_time": "2025-01-10T17:23:17.324378Z"
    }
   },
   "source": [
    "# Plot feature importances for XGBoost\n",
    "xgb.plot_importance(bst_xgb)\n",
    "plt.show()"
   ],
   "outputs": [
    {
     "data": {
      "text/plain": [
       "<Figure size 640x480 with 1 Axes>"
      ],
      "image/png": "[encoded data removed]"
     },
     "metadata": {},
     "output_type": "display_data"
    }
   ],
   "execution_count": 404
  }
 ],
 "metadata": {
  "kernelspec": {
   "display_name": "Python 3 (ipykernel)",
   "language": "python",
   "name": "python3"
  },
  "language_info": {
   "codemirror_mode": {
    "name": "ipython",
    "version": 3
   },
   "file_extension": ".py",
   "mimetype": "text/x-python",
   "name": "python",
   "nbconvert_exporter": "python",
   "pygments_lexer": "ipython3",
   "version": "3.12.8"
  }
 },
 "nbformat": 4,
 "nbformat_minor": 5
}
